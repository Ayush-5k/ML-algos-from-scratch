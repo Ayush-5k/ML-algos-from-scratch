{
 "cells": [
  {
   "cell_type": "code",
   "execution_count": 1,
   "id": "ea2c83fd",
   "metadata": {},
   "outputs": [],
   "source": [
    "import pandas as pd\n",
    "import numpy as np"
   ]
  },
  {
   "cell_type": "code",
   "execution_count": 3,
   "id": "c8535dbd",
   "metadata": {},
   "outputs": [
    {
     "data": {
      "text/html": [
       "<div>\n",
       "<style scoped>\n",
       "    .dataframe tbody tr th:only-of-type {\n",
       "        vertical-align: middle;\n",
       "    }\n",
       "\n",
       "    .dataframe tbody tr th {\n",
       "        vertical-align: top;\n",
       "    }\n",
       "\n",
       "    .dataframe thead th {\n",
       "        text-align: right;\n",
       "    }\n",
       "</style>\n",
       "<table border=\"1\" class=\"dataframe\">\n",
       "  <thead>\n",
       "    <tr style=\"text-align: right;\">\n",
       "      <th></th>\n",
       "      <th>Unnamed: 0</th>\n",
       "      <th>label</th>\n",
       "      <th>text</th>\n",
       "      <th>label_num</th>\n",
       "    </tr>\n",
       "  </thead>\n",
       "  <tbody>\n",
       "    <tr>\n",
       "      <th>0</th>\n",
       "      <td>605</td>\n",
       "      <td>ham</td>\n",
       "      <td>Subject: enron methanol ; meter # : 988291\\r\\n...</td>\n",
       "      <td>0</td>\n",
       "    </tr>\n",
       "    <tr>\n",
       "      <th>1</th>\n",
       "      <td>2349</td>\n",
       "      <td>ham</td>\n",
       "      <td>Subject: hpl nom for january 9 , 2001\\r\\n( see...</td>\n",
       "      <td>0</td>\n",
       "    </tr>\n",
       "    <tr>\n",
       "      <th>2</th>\n",
       "      <td>3624</td>\n",
       "      <td>ham</td>\n",
       "      <td>Subject: neon retreat\\r\\nho ho ho , we ' re ar...</td>\n",
       "      <td>0</td>\n",
       "    </tr>\n",
       "    <tr>\n",
       "      <th>3</th>\n",
       "      <td>4685</td>\n",
       "      <td>spam</td>\n",
       "      <td>Subject: photoshop , windows , office . cheap ...</td>\n",
       "      <td>1</td>\n",
       "    </tr>\n",
       "    <tr>\n",
       "      <th>4</th>\n",
       "      <td>2030</td>\n",
       "      <td>ham</td>\n",
       "      <td>Subject: re : indian springs\\r\\nthis deal is t...</td>\n",
       "      <td>0</td>\n",
       "    </tr>\n",
       "  </tbody>\n",
       "</table>\n",
       "</div>"
      ],
      "text/plain": [
       "   Unnamed: 0 label                                               text  \\\n",
       "0         605   ham  Subject: enron methanol ; meter # : 988291\\r\\n...   \n",
       "1        2349   ham  Subject: hpl nom for january 9 , 2001\\r\\n( see...   \n",
       "2        3624   ham  Subject: neon retreat\\r\\nho ho ho , we ' re ar...   \n",
       "3        4685  spam  Subject: photoshop , windows , office . cheap ...   \n",
       "4        2030   ham  Subject: re : indian springs\\r\\nthis deal is t...   \n",
       "\n",
       "   label_num  \n",
       "0          0  \n",
       "1          0  \n",
       "2          0  \n",
       "3          1  \n",
       "4          0  "
      ]
     },
     "execution_count": 3,
     "metadata": {},
     "output_type": "execute_result"
    }
   ],
   "source": [
    "df = pd.read_csv(\"spam_ham_dataset.csv\")\n",
    "df.head()"
   ]
  },
  {
   "cell_type": "code",
   "execution_count": null,
   "id": "8b341a08",
   "metadata": {},
   "outputs": [
    {
     "name": "stderr",
     "output_type": "stream",
     "text": [
      "[nltk_data] Downloading package stopwords to\n",
      "[nltk_data]     C:\\Users\\sabya\\AppData\\Roaming\\nltk_data...\n",
      "[nltk_data]   Unzipping corpora\\stopwords.zip.\n"
     ]
    },
    {
     "name": "stdout",
     "output_type": "stream",
     "text": [
      "                                                text  \\\n",
      "0  Subject: enron methanol ; meter # : 988291\\r\\n...   \n",
      "1  Subject: hpl nom for january 9 , 2001\\r\\n( see...   \n",
      "2  Subject: neon retreat\\r\\nho ho ho , we ' re ar...   \n",
      "\n",
      "                                              tokens  \n",
      "0  [enron, methanol, meter, follow, note, gave, m...  \n",
      "1  [hpl, nom, januari, see, attach, file, hplnol,...  \n",
      "2  [neon, retreat, ho, ho, ho, around, wonder, ti...  \n"
     ]
    }
   ],
   "source": [
    "import re\n",
    "import nltk\n",
    "from nltk.corpus import stopwords\n",
    "from nltk.stem import PorterStemmer\n",
    "\n",
    "nltk.download(\"stopwords\")\n",
    "stop_words = set(stopwords.words(\"english\"))\n",
    "stemmer = PorterStemmer()\n",
    "\n",
    "def clean_text(text):\n",
    "    # lowercase\n",
    "    text = text.lower()\n",
    "\n",
    "    # remove Subject:, Re:, Fwd:\n",
    "    text = re.sub(r'^(subject|re|fwd)\\s*:\\s*', '', text, flags=re.IGNORECASE)\n",
    "\n",
    "    # remove emails\n",
    "    text = re.sub(r'\\S+@\\S+', ' ', text)\n",
    "\n",
    "    # remove urls\n",
    "    text = re.sub(r'http\\S+|www\\.\\S+', ' ', text)\n",
    "\n",
    "    # remove numbers\n",
    "    text = re.sub(r'\\d+', ' ', text)\n",
    "\n",
    "    # remove non-alphabetic chars\n",
    "    text = re.sub(r'[^a-z\\s]', ' ', text)\n",
    "\n",
    "    # tokenize\n",
    "    tokens = text.split()\n",
    "\n",
    "    # remove stopwords and short tokens, apply stemming\n",
    "    tokens = [stemmer.stem(w) for w in tokens if w not in stop_words and len(w) > 1]\n",
    "\n",
    "    return tokens\n",
    "\n",
    "# apply preprocessing\n",
    "df[\"tokens\"] = df[\"text\"].apply(clean_text)\n",
    "\n",
    "print(df[[\"text\", \"tokens\"]].head(3))"
   ]
  },
  {
   "cell_type": "code",
   "execution_count": null,
   "id": "c57d552e",
   "metadata": {},
   "outputs": [
    {
     "name": "stdout",
     "output_type": "stream",
     "text": [
      "Train size: 4136\n",
      "Test size: 1035\n",
      "Class distribution in train:\n",
      "label_num\n",
      "0    0.710106\n",
      "1    0.289894\n",
      "Name: proportion, dtype: float64\n",
      "Class distribution in test:\n",
      "label_num\n",
      "0    0.710145\n",
      "1    0.289855\n",
      "Name: proportion, dtype: float64\n"
     ]
    }
   ],
   "source": [
    "from sklearn.model_selection import train_test_split\n",
    "\n",
    "train_df, test_df = train_test_split(df, test_size=0.2, stratify=df[\"label_num\"], random_state=42)\n",
    "\n",
    "print(\"Train size:\", len(train_df))\n",
    "print(\"Test size:\", len(test_df))\n",
    "print(\"Class distribution in train:\")\n",
    "print(train_df[\"label_num\"].value_counts(normalize=True))\n",
    "print(\"Class distribution in test:\")\n",
    "print(test_df[\"label_num\"].value_counts(normalize=True))"
   ]
  },
  {
   "cell_type": "code",
   "execution_count": null,
   "id": "80d527ae",
   "metadata": {},
   "outputs": [
    {
     "name": "stdout",
     "output_type": "stream",
     "text": [
      "Vocabulary size: 14901\n",
      "Sample vocab entries: [('aa', 0), ('aaa', 1), ('aalland', 2), ('aarhu', 3), ('aaron', 4), ('ab', 5), ('aba', 6), ('ababa', 7), ('abacha', 8), ('aback', 9), ('abacu', 10), ('abacustech', 11), ('abandon', 12), ('abash', 13), ('abat', 14), ('abazi', 15), ('abb', 16), ('abba', 17), ('abbasi', 18), ('abbi', 19)]\n"
     ]
    }
   ],
   "source": [
    "from collections import Counter\n",
    "\n",
    "# count of number of tokens in training data\n",
    "token_counts = Counter()\n",
    "for tokens in train_df[\"tokens\"]:\n",
    "    token_counts.update(tokens)\n",
    "\n",
    "# minimum frequency filter\n",
    "min_df = 2\n",
    "vocab = {word for word, freq in token_counts.items() if freq >= min_df}\n",
    "\n",
    "# mapping vocab words to indices\n",
    "vocab = {word: idx for idx, word in enumerate(sorted(vocab))}\n",
    "vocab_size = len(vocab)\n",
    "\n",
    "print(\"Vocabulary size:\", vocab_size)\n",
    "print(\"Sample vocab entries:\", list(vocab.items())[:20])"
   ]
  },
  {
   "cell_type": "code",
   "execution_count": null,
   "id": "616b1aa4",
   "metadata": {},
   "outputs": [
    {
     "name": "stdout",
     "output_type": "stream",
     "text": [
      "Train shape: (4136, 14901)\n",
      "Test shape: (1035, 14901)\n"
     ]
    }
   ],
   "source": [
    "import numpy as np\n",
    "\n",
    "def vectorize(tokens, vocab):\n",
    "    vec = np.zeros(len(vocab), dtype=np.int64)\n",
    "    for token in tokens:\n",
    "        if token in vocab:\n",
    "            vec[vocab[token]] += 1\n",
    "    return vec\n",
    "\n",
    "# vectorize training set\n",
    "X_train = np.array([vectorize(tokens, vocab) for tokens in train_df[\"tokens\"]])\n",
    "y_train = train_df[\"label_num\"].values\n",
    "\n",
    "# vectorize test set\n",
    "X_test = np.array([vectorize(tokens, vocab) for tokens in test_df[\"tokens\"]])\n",
    "y_test = test_df[\"label_num\"].values\n",
    "\n",
    "print(\"Train shape:\", X_train.shape)\n",
    "print(\"Test shape:\", X_test.shape)"
   ]
  },
  {
   "cell_type": "code",
   "execution_count": null,
   "id": "95b378a3",
   "metadata": {},
   "outputs": [],
   "source": [
    "class NaiveBayesMultinomial:\n",
    "    def __init__(self, alpha=1.0):\n",
    "        self.alpha = alpha\n",
    "        self.class_priors = None\n",
    "        self.likelihoods = None\n",
    "        self.vocab_size = None\n",
    "        self.classes = None\n",
    "\n",
    "    def fit(self, X, y):\n",
    "        n_docs, n_features = X.shape\n",
    "        self.vocab_size = n_features\n",
    "        self.classes = np.unique(y)\n",
    "\n",
    "        # Priors: P(C) = count(C)/N\n",
    "        class_counts = np.array([np.sum(y == c) for c in self.classes])\n",
    "        self.class_priors = class_counts / n_docs\n",
    "\n",
    "        # Likelihoods: P(word|C)\n",
    "        self.likelihoods = {}\n",
    "        for c in self.classes:\n",
    "            X_c = X[y == c]                  # documents in class c\n",
    "            word_count = np.sum(X_c, axis=0) # count of each word in class c\n",
    "            total_count = np.sum(word_count) # total words in class c\n",
    "\n",
    "            # Laplace smoothing\n",
    "            probs = (word_count + self.alpha) / (total_count + self.alpha * n_features)\n",
    "            self.likelihoods[c] = np.log(probs)   # store log for numerical stability\n",
    "\n",
    "        # also store log priors\n",
    "        self.log_priors = np.log(self.class_priors)"
   ]
  },
  {
   "cell_type": "code",
   "execution_count": null,
   "id": "f1b1a5ef",
   "metadata": {},
   "outputs": [],
   "source": [
    "class NaiveBayesMultinomial(NaiveBayesMultinomial):  # extend the previous definition\n",
    "    def predict(self, X):\n",
    "        predictions = []\n",
    "        for x in X:\n",
    "            class_scores = {}\n",
    "            for c in self.classes:\n",
    "                # start with log prior\n",
    "                score = self.log_priors[self.classes == c][0]\n",
    "                # add log likelihood * count\n",
    "                score += np.sum(x * self.likelihoods[c])\n",
    "                class_scores[c] = score\n",
    "            # pick class with highest score\n",
    "            predictions.append(max(class_scores, key=class_scores.get))\n",
    "        return np.array(predictions)"
   ]
  },
  {
   "cell_type": "code",
   "execution_count": null,
   "id": "26fd7f96",
   "metadata": {},
   "outputs": [
    {
     "name": "stdout",
     "output_type": "stream",
     "text": [
      "Accuracy: 0.970048309178744\n",
      "              precision    recall  f1-score   support\n",
      "\n",
      "         ham       0.98      0.98      0.98       735\n",
      "        spam       0.94      0.95      0.95       300\n",
      "\n",
      "    accuracy                           0.97      1035\n",
      "   macro avg       0.96      0.97      0.96      1035\n",
      "weighted avg       0.97      0.97      0.97      1035\n",
      "\n"
     ]
    }
   ],
   "source": [
    "# train\n",
    "nb = NaiveBayesMultinomial(alpha=1.0)\n",
    "nb.fit(X_train, y_train)\n",
    "\n",
    "# predict\n",
    "y_pred = nb.predict(X_test)\n",
    "\n",
    "# evaluate\n",
    "from sklearn.metrics import accuracy_score, classification_report\n",
    "print(\"Accuracy:\", accuracy_score(y_test, y_pred))\n",
    "print(classification_report(y_test, y_pred, target_names=[\"ham\", \"spam\"]))"
   ]
  },
  {
   "cell_type": "code",
   "execution_count": null,
   "id": "06cd906f",
   "metadata": {},
   "outputs": [
    {
     "name": "stdout",
     "output_type": "stream",
     "text": [
      "Predicted class: spam\n"
     ]
    }
   ],
   "source": [
    "new_text = \"win money\"\n",
    "\n",
    "tokens = clean_text(new_text)\n",
    "vec = vectorize(tokens, vocab).reshape(1, -1)\n",
    "\n",
    "pred = nb.predict(vec)[0]\n",
    "print(\"Predicted class:\", \"spam\" if pred == 1 else \"ham\")"
   ]
  }
 ],
 "metadata": {
  "kernelspec": {
   "display_name": "myenv",
   "language": "python",
   "name": "python3"
  },
  "language_info": {
   "codemirror_mode": {
    "name": "ipython",
    "version": 3
   },
   "file_extension": ".py",
   "mimetype": "text/x-python",
   "name": "python",
   "nbconvert_exporter": "python",
   "pygments_lexer": "ipython3",
   "version": "3.12.3"
  }
 },
 "nbformat": 4,
 "nbformat_minor": 5
}
