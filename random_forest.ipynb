{
 "cells": [
  {
   "cell_type": "code",
   "execution_count": null,
   "id": "91d90e00",
   "metadata": {},
   "outputs": [],
   "source": [
    "import numpy as np\n",
    "import pandas as pd\n",
    "from sklearn.datasets import load_iris\n",
    "from sklearn.model_selection import train_test_split\n",
    "from sklearn.metrics import accuracy_score\n",
    "\n",
    "iris = load_iris(as_frame=True)\n",
    "df = iris.frame\n",
    "\n",
    "X = df.drop(columns='target')\n",
    "y = df['target']\n",
    "\n",
    "X_train, X_test, y_train, y_test = train_test_split(\n",
    "    X, y, test_size=0.2, random_state=42\n",
    ")"
   ]
  },
  {
   "cell_type": "code",
   "execution_count": null,
   "id": "79fef244",
   "metadata": {},
   "outputs": [],
   "source": [
    "class TreeNode:\n",
    "    def __init__(self, feature_index=None, threshold=None, left=None, right=None, *, value=None):\n",
    "        self.feature_index = feature_index\n",
    "        self.threshold = threshold\n",
    "        self.left = left\n",
    "        self.right = right\n",
    "        self.value = value  # Leaf value if it's a terminal node"
   ]
  },
  {
   "cell_type": "code",
   "execution_count": null,
   "id": "f988ec8a",
   "metadata": {},
   "outputs": [],
   "source": [
    "def gini_impurity(y):\n",
    "    lis = set(y)\n",
    "    impurity = 1.0\n",
    "    total = len(y)\n",
    "    for ind in lis:\n",
    "        p = sum(y == ind) / total\n",
    "        impurity -= p ** 2\n",
    "    return impurity\n",
    "\n",
    "def best_split(x, y):\n",
    "    best_gini = float('inf')\n",
    "    best_idx = None\n",
    "    best_threshold = None\n",
    "    n_sample, n_features = x.shape\n",
    "\n",
    "    for feat in range(n_features):\n",
    "        thresholds = set(x.iloc[:, feat])\n",
    "        for threshold in thresholds:\n",
    "            left_mask = x.iloc[:, feat] <= threshold\n",
    "            right_mask = ~left_mask\n",
    "            if len(y[left_mask]) == 0 or len(y[right_mask]) == 0:\n",
    "                continue\n",
    "\n",
    "            gini_left = gini_impurity(y[left_mask])\n",
    "            gini_right = gini_impurity(y[right_mask])\n",
    "            weighted_gini = (\n",
    "                len(y[left_mask]) * gini_left + len(y[right_mask]) * gini_right\n",
    "            ) / n_sample\n",
    "\n",
    "            if weighted_gini < best_gini:\n",
    "                best_gini = weighted_gini\n",
    "                best_idx = feat\n",
    "                best_threshold = threshold\n",
    "    return best_idx, best_threshold\n",
    "\n",
    "# Recursively build decision tree\n",
    "def build_tree(X, y, depth=0, max_depth=None, min_samples_split=2):\n",
    "    if len(set(y)) == 1:  # Pure leaf\n",
    "        return TreeNode(value=y.iloc[0])\n",
    "    if max_depth is not None and depth >= max_depth:\n",
    "        return TreeNode(value=y.mode()[0])\n",
    "    if len(y) < min_samples_split:\n",
    "        return TreeNode(value=y.mode()[0])\n",
    "\n",
    "    feature_idx, threshold = best_split(X, y)\n",
    "    if feature_idx is None:\n",
    "        return TreeNode(value=y.mode()[0])\n",
    "\n",
    "    left_mask = X.iloc[:, feature_idx] <= threshold\n",
    "    right_mask = ~left_mask\n",
    "\n",
    "    left = build_tree(X[left_mask], y[left_mask], depth + 1, max_depth, min_samples_split)\n",
    "    right = build_tree(X[right_mask], y[right_mask], depth + 1, max_depth, min_samples_split)\n",
    "\n",
    "    return TreeNode(feature_index=feature_idx, threshold=threshold, left=left, right=right)"
   ]
  },
  {
   "cell_type": "code",
   "execution_count": null,
   "id": "e1419c4a",
   "metadata": {},
   "outputs": [],
   "source": [
    "def predict_one(node, x):\n",
    "    if node.value is not None:\n",
    "        return node.value\n",
    "    if x.iloc[node.feature_index] <= node.threshold:\n",
    "        return predict_one(node.left, x)\n",
    "    else:\n",
    "        return predict_one(node.right, x)\n",
    "\n",
    "def predict(tree, X):\n",
    "    return [predict_one(tree, row) for _, row in X.iterrows()]"
   ]
  },
  {
   "cell_type": "code",
   "execution_count": 6,
   "id": "0e20fcf9",
   "metadata": {},
   "outputs": [],
   "source": [
    "# Bootstrap sampling\n",
    "def bootstrap_sample(X, y):\n",
    "    n_samples = X.shape[0]\n",
    "    indices = np.random.choice(n_samples, size=n_samples, replace=True)\n",
    "    return X.iloc[indices], y.iloc[indices]\n",
    "\n",
    "# Random Forest using bagging of decision trees\n",
    "class RandomForest:\n",
    "    def __init__(self, n_estimators=10, max_depth=None, min_samples_split=2):\n",
    "        self.n_estimators = n_estimators\n",
    "        self.max_depth = max_depth\n",
    "        self.min_samples_split = min_samples_split\n",
    "        self.trees = []\n",
    "\n",
    "    def fit(self, X, y):\n",
    "        for _ in range(self.n_estimators):\n",
    "            X_sample, y_sample = bootstrap_sample(X, y)\n",
    "            tree = build_tree(X_sample, y_sample, max_depth=self.max_depth, min_samples_split=self.min_samples_split)\n",
    "            self.trees.append(tree)\n",
    "\n",
    "    def predict(self, X):\n",
    "        # Collect predictions from all trees\n",
    "        tree_preds = np.array([predict(tree, X) for tree in self.trees])\n",
    "        # Majority voting\n",
    "        y_pred = [np.bincount(tree_preds[:, i]).argmax() for i in range(X.shape[0])]\n",
    "        return y_pred"
   ]
  },
  {
   "cell_type": "code",
   "execution_count": null,
   "id": "629893e2",
   "metadata": {},
   "outputs": [
    {
     "name": "stdout",
     "output_type": "stream",
     "text": [
      "Random Forest Accuracy: 1.0\n"
     ]
    }
   ],
   "source": [
    "rf = RandomForest(n_estimators=10, max_depth=3)\n",
    "rf.fit(X_train, y_train)\n",
    "\n",
    "y_pred_rf = rf.predict(X_test)\n",
    "\n",
    "print(\"Random Forest Accuracy:\", accuracy_score(y_test, y_pred_rf))"
   ]
  }
 ],
 "metadata": {
  "kernelspec": {
   "display_name": "myenv",
   "language": "python",
   "name": "python3"
  },
  "language_info": {
   "codemirror_mode": {
    "name": "ipython",
    "version": 3
   },
   "file_extension": ".py",
   "mimetype": "text/x-python",
   "name": "python",
   "nbconvert_exporter": "python",
   "pygments_lexer": "ipython3",
   "version": "3.12.3"
  }
 },
 "nbformat": 4,
 "nbformat_minor": 5
}
