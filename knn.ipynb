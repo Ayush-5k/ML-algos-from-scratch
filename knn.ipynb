{
 "cells": [
  {
   "cell_type": "code",
   "execution_count": 8,
   "id": "6ba24188",
   "metadata": {},
   "outputs": [],
   "source": [
    "import numpy as np"
   ]
  },
  {
   "cell_type": "code",
   "execution_count": null,
   "id": "bc1c1c93",
   "metadata": {},
   "outputs": [],
   "source": [
    "class knn:\n",
    "    def __init__(self, k, x, y):\n",
    "        self.k = k\n",
    "        self.x = x\n",
    "        self.y = y\n",
    "    \n",
    "    def predict(self, X):\n",
    "        from collections import Counter\n",
    "        predictions = []\n",
    "        for x_test in X:\n",
    "            \n",
    "            distances = np.linalg.norm(self.x - x_test, axis=1)# Compute distances between x_test and all training samples\n",
    "            \n",
    "            k_indices = np.argsort(distances)[:self.k]# Get the indices of the k nearest samples\n",
    "            \n",
    "            k_nearest_labels = self.y[k_indices]# Get the labels of the k nearest samples\n",
    "            \n",
    "            most_common = Counter(k_nearest_labels).most_common(1)[0][0]# Majority vote\n",
    "            \n",
    "            predictions.append(most_common)\n",
    "        return np.array(predictions)"
   ]
  },
  {
   "cell_type": "code",
   "execution_count": 10,
   "id": "eb75eb18",
   "metadata": {},
   "outputs": [
    {
     "name": "stdout",
     "output_type": "stream",
     "text": [
      "Predictions: [1 0 2 1 1 0 1 2 1 1 2 0 0 0 0 1 2 1 1 2 0 2 0 2 2 2 2 2 0 0]\n",
      "Actual:      [1 0 2 1 1 0 1 2 1 1 2 0 0 0 0 1 2 1 1 2 0 2 0 2 2 2 2 2 0 0]\n",
      "Accuracy:    1.0\n"
     ]
    }
   ],
   "source": [
    "from sklearn.datasets import load_iris\n",
    "from sklearn.model_selection import train_test_split\n",
    "iris = load_iris()\n",
    "X = iris.data\n",
    "y = iris.target\n",
    "\n",
    "X_train, X_test, y_train, y_test = train_test_split(X, y, test_size=0.2, random_state=42)\n",
    "\n",
    "knn_mod = knn(k=3, x=X_train, y=y_train)\n",
    "predictions = knn_mod.predict(X_test)\n",
    "\n",
    "print(\"Predictions:\", predictions)\n",
    "print(\"Actual:     \", y_test)\n",
    "print(\"Accuracy:   \", np.mean(predictions == y_test))"
   ]
  }
 ],
 "metadata": {
  "kernelspec": {
   "display_name": "myenv",
   "language": "python",
   "name": "python3"
  },
  "language_info": {
   "codemirror_mode": {
    "name": "ipython",
    "version": 3
   },
   "file_extension": ".py",
   "mimetype": "text/x-python",
   "name": "python",
   "nbconvert_exporter": "python",
   "pygments_lexer": "ipython3",
   "version": "3.12.3"
  }
 },
 "nbformat": 4,
 "nbformat_minor": 5
}
