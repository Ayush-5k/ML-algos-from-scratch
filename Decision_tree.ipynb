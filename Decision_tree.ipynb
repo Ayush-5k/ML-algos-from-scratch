{
 "cells": [
  {
   "cell_type": "code",
   "execution_count": 20,
   "id": "acaadb14",
   "metadata": {},
   "outputs": [
    {
     "data": {
      "text/html": [
       "<div>\n",
       "<style scoped>\n",
       "    .dataframe tbody tr th:only-of-type {\n",
       "        vertical-align: middle;\n",
       "    }\n",
       "\n",
       "    .dataframe tbody tr th {\n",
       "        vertical-align: top;\n",
       "    }\n",
       "\n",
       "    .dataframe thead th {\n",
       "        text-align: right;\n",
       "    }\n",
       "</style>\n",
       "<table border=\"1\" class=\"dataframe\">\n",
       "  <thead>\n",
       "    <tr style=\"text-align: right;\">\n",
       "      <th></th>\n",
       "      <th>sepal length (cm)</th>\n",
       "      <th>sepal width (cm)</th>\n",
       "      <th>petal length (cm)</th>\n",
       "      <th>petal width (cm)</th>\n",
       "      <th>target</th>\n",
       "    </tr>\n",
       "  </thead>\n",
       "  <tbody>\n",
       "    <tr>\n",
       "      <th>0</th>\n",
       "      <td>5.1</td>\n",
       "      <td>3.5</td>\n",
       "      <td>1.4</td>\n",
       "      <td>0.2</td>\n",
       "      <td>0</td>\n",
       "    </tr>\n",
       "    <tr>\n",
       "      <th>1</th>\n",
       "      <td>4.9</td>\n",
       "      <td>3.0</td>\n",
       "      <td>1.4</td>\n",
       "      <td>0.2</td>\n",
       "      <td>0</td>\n",
       "    </tr>\n",
       "    <tr>\n",
       "      <th>2</th>\n",
       "      <td>4.7</td>\n",
       "      <td>3.2</td>\n",
       "      <td>1.3</td>\n",
       "      <td>0.2</td>\n",
       "      <td>0</td>\n",
       "    </tr>\n",
       "    <tr>\n",
       "      <th>3</th>\n",
       "      <td>4.6</td>\n",
       "      <td>3.1</td>\n",
       "      <td>1.5</td>\n",
       "      <td>0.2</td>\n",
       "      <td>0</td>\n",
       "    </tr>\n",
       "    <tr>\n",
       "      <th>4</th>\n",
       "      <td>5.0</td>\n",
       "      <td>3.6</td>\n",
       "      <td>1.4</td>\n",
       "      <td>0.2</td>\n",
       "      <td>0</td>\n",
       "    </tr>\n",
       "  </tbody>\n",
       "</table>\n",
       "</div>"
      ],
      "text/plain": [
       "   sepal length (cm)  sepal width (cm)  petal length (cm)  petal width (cm)  \\\n",
       "0                5.1               3.5                1.4               0.2   \n",
       "1                4.9               3.0                1.4               0.2   \n",
       "2                4.7               3.2                1.3               0.2   \n",
       "3                4.6               3.1                1.5               0.2   \n",
       "4                5.0               3.6                1.4               0.2   \n",
       "\n",
       "   target  \n",
       "0       0  \n",
       "1       0  \n",
       "2       0  \n",
       "3       0  \n",
       "4       0  "
      ]
     },
     "execution_count": 20,
     "metadata": {},
     "output_type": "execute_result"
    }
   ],
   "source": [
    "from sklearn.datasets import load_iris\n",
    "import pandas as pd\n",
    "\n",
    "iris = load_iris(as_frame=True)\n",
    "df = iris.frame\n",
    "df.head()"
   ]
  },
  {
   "cell_type": "code",
   "execution_count": 21,
   "id": "e61f3387",
   "metadata": {},
   "outputs": [],
   "source": [
    "class TreeNode:\n",
    "    def __init__(self, feature_index=None, threshold=None, left=None, right=None, *, value=None):\n",
    "        self.feature_index = feature_index  # Index of the feature to split on\n",
    "        self.threshold = threshold          # Threshold value for the split\n",
    "        self.left = left                    # Left child node\n",
    "        self.right = right                  # Right child node\n",
    "        self.value = value                  # Class label if this is a leaf node"
   ]
  },
  {
   "cell_type": "code",
   "execution_count": 22,
   "id": "4a865040",
   "metadata": {},
   "outputs": [],
   "source": [
    "def gini_impurity(y):# y represents the labels(target values) of the data points\n",
    "    lis = set(y)  # Unique classes in the labels\n",
    "    impurity = 1.0\n",
    "    total = len(y)\n",
    "\n",
    "    for ind in lis:\n",
    "        p = sum(y == ind) / total\n",
    "        impurity -= p ** 2\n",
    "    return impurity\n"
   ]
  },
  {
   "cell_type": "code",
   "execution_count": 23,
   "id": "254dcb25",
   "metadata": {},
   "outputs": [],
   "source": [
    "def best_split(x, y):\n",
    "    best_gini = float('inf')\n",
    "    best_idx = None\n",
    "    best_threshold = None\n",
    "\n",
    "    n_sample, n_features = x.shape\n",
    "\n",
    "    for feat in range(n_features):\n",
    "        thresholds = set(x.iloc[:, feat])\n",
    "        for threshold in thresholds:\n",
    "            left_tree = x.iloc[:, feat] <= threshold\n",
    "            right_tree = x.iloc[:, feat] > threshold\n",
    "            if len(y[left_tree]) == 0 or len(y[right_tree]) == 0:\n",
    "                continue\n",
    "            gini_left = gini_impurity(y[left_tree])\n",
    "            gini_right = gini_impurity(y[right_tree])\n",
    "            weighted_gini = (len(y[left_tree]) * gini_left + len(y[right_tree]) * gini_right) / n_sample\n",
    "\n",
    "            if weighted_gini < best_gini:\n",
    "                best_gini = weighted_gini\n",
    "                best_idx = feat\n",
    "                best_threshold = threshold\n",
    "    return best_idx, best_threshold"
   ]
  },
  {
   "cell_type": "code",
   "execution_count": 24,
   "id": "a40f022a",
   "metadata": {},
   "outputs": [],
   "source": [
    "def build_tree(X, y, depth=0, max_depth=None, min_samples_split=2):\n",
    "    # Stopping conditions\n",
    "    if len(set(y)) == 1:  # All labels are the same\n",
    "        return TreeNode(value=y.iloc[0])\n",
    "    if max_depth is not None and depth >= max_depth:\n",
    "        return TreeNode(value=y.mode()[0])\n",
    "    if len(y) < min_samples_split:\n",
    "        return TreeNode(value=y.mode()[0])\n",
    "\n",
    "    # Find best split\n",
    "    feature_idx, threshold = best_split(X, y)\n",
    "    if feature_idx is None:\n",
    "        return TreeNode(value=y.mode()[0])\n",
    "\n",
    "    # Split the data\n",
    "    left_mask = X.iloc[:, feature_idx] <= threshold\n",
    "    right_mask = ~left_mask\n",
    "\n",
    "    left = build_tree(X[left_mask], y[left_mask], depth + 1, max_depth, min_samples_split)\n",
    "    right = build_tree(X[right_mask], y[right_mask], depth + 1, max_depth, min_samples_split)\n",
    "\n",
    "    return TreeNode(feature_index=feature_idx, threshold=threshold, left=left, right=right)"
   ]
  },
  {
   "cell_type": "code",
   "execution_count": null,
   "id": "e37c16a3",
   "metadata": {},
   "outputs": [],
   "source": [
    "def predict_one(node, x):\n",
    "    if node.value is not None:\n",
    "        return node.value\n",
    "    if x.iloc[node.feature_index] <= node.threshold:\n",
    "        return predict_one(node.left, x)\n",
    "    else:\n",
    "        return predict_one(node.right, x)\n",
    "\n",
    "def predict(tree, X):\n",
    "    # tree: root TreeNode\n",
    "    # X: DataFrame or 2D array of samples\n",
    "    return [predict_one(tree, row) for _, row in X.iterrows()]"
   ]
  },
  {
   "cell_type": "code",
   "execution_count": 26,
   "id": "919bd608",
   "metadata": {},
   "outputs": [
    {
     "name": "stdout",
     "output_type": "stream",
     "text": [
      "Accuracy: 1.0\n"
     ]
    }
   ],
   "source": [
    "# Prepare data\n",
    "X = df.drop(columns='target')\n",
    "y = df['target']\n",
    "\n",
    "# Optionally, split into train/test sets\n",
    "from sklearn.model_selection import train_test_split\n",
    "X_train, X_test, y_train, y_test = train_test_split(X, y, test_size=0.2, random_state=42)\n",
    "\n",
    "# Build the tree\n",
    "tree = build_tree(X_train, y_train, max_depth=3)\n",
    "\n",
    "# Predict on test set\n",
    "y_pred = predict(tree, X_test)\n",
    "\n",
    "# Evaluate accuracy\n",
    "from sklearn.metrics import accuracy_score\n",
    "print(\"Accuracy:\", accuracy_score(y_test, y_pred))"
   ]
  }
 ],
 "metadata": {
  "kernelspec": {
   "display_name": "myenv",
   "language": "python",
   "name": "python3"
  },
  "language_info": {
   "codemirror_mode": {
    "name": "ipython",
    "version": 3
   },
   "file_extension": ".py",
   "mimetype": "text/x-python",
   "name": "python",
   "nbconvert_exporter": "python",
   "pygments_lexer": "ipython3",
   "version": "3.12.3"
  }
 },
 "nbformat": 4,
 "nbformat_minor": 5
}
